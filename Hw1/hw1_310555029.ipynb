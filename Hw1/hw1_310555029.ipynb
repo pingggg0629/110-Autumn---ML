{
  "nbformat": 4,
  "nbformat_minor": 0,
  "metadata": {
    "colab": {
      "name": "hw1_310555029.ipynb",
      "provenance": [],
      "collapsed_sections": []
    },
    "kernelspec": {
      "name": "python3",
      "display_name": "Python 3"
    },
    "language_info": {
      "name": "python"
    }
  },
  "cells": [
    {
      "cell_type": "markdown",
      "metadata": {
        "id": "PZBWcFtBZXd5"
      },
      "source": [
        "\n",
        "#Linear Regression"
      ]
    },
    {
      "cell_type": "markdown",
      "metadata": {
        "id": "uegblV7M8OxO"
      },
      "source": [
        "##(0) Load the data  -> Standardize data -> Split the dataset"
      ]
    },
    {
      "cell_type": "code",
      "metadata": {
        "id": "rIyxjzSsZI--",
        "colab": {
          "base_uri": "https://localhost:8080/"
        },
        "outputId": "fc80c94e-e5ed-46bd-f984-c2425de4f5cb"
      },
      "source": [
        "import numpy as np\n",
        "import pandas as pd\n",
        "\n",
        "data_x_df = pd.read_csv('data_X.csv')\n",
        "data_t_df = pd.read_csv('data_T.csv')\n",
        "\n",
        "X = np.array(data_x_df)\n",
        "T = np.array(data_t_df)\n",
        "\n",
        "# standardize \n",
        "X = (X-X.mean(axis=0))/X.std(axis=0)\n",
        "#T = (T-T.mean(axis=0))/T.std(axis=0)\n",
        "\n",
        "# 80% training dataset and 20% test dataset\n",
        "X_SIZE = X.shape[0]\n",
        "ratio = 8/10\n",
        "trainRange = int(X_SIZE*ratio) #num of training data\n",
        "x_train = X[:trainRange]\n",
        "x_test = X[trainRange:] \n",
        "y_train = T[:trainRange]\n",
        "y_test = T[trainRange:]\n",
        "\n",
        "print(\"x_train shape {} and size {}\".format(x_train.shape,x_train.size))\n",
        "print(\"y_train shape {} and size {}\".format(y_train.shape,y_train.size))\n",
        "print(\"x_test shape {} and size {}\".format(x_test.shape,x_test.size))\n",
        "print(\"y_test shape {} and size {}\".format(y_test.shape,y_test.size))"
      ],
      "execution_count": 46,
      "outputs": [
        {
          "output_type": "stream",
          "name": "stdout",
          "text": [
            "x_train shape (16346, 8) and size 130768\n",
            "y_train shape (16346, 1) and size 16346\n",
            "x_test shape (4087, 8) and size 32696\n",
            "y_test shape (4087, 1) and size 4087\n"
          ]
        }
      ]
    },
    {
      "cell_type": "markdown",
      "metadata": {
        "id": "CFdoxBiIzwup"
      },
      "source": [
        "##(1) Feature selection     \n",
        "\n",
        "\n"
      ]
    },
    {
      "cell_type": "markdown",
      "metadata": {
        "id": "J1yGEzL7gMAr"
      },
      "source": [
        "### Define model"
      ]
    },
    {
      "cell_type": "code",
      "metadata": {
        "id": "G1r8NZLUeM1N"
      },
      "source": [
        "class LinearRegression:\n",
        "    def __init__(self,x,M):\n",
        "      self.M = M\n",
        "      self.size = x.shape[0]\n",
        "      self.feature_num = x.shape[1]\n",
        "      self.weight = None\n",
        "\n",
        "    def closed_form(self, x, y, _lambda=0, regularize = False):\n",
        "      if not regularize:\n",
        "      # Using Normal Equation to find w = (xT x)^(-1) xT y\n",
        "        xTx = np.dot(x.T, x)\n",
        "        inv = np.linalg.inv(np.matrix(xTx))\n",
        "        w = np.dot(np.dot(inv, x.T), y)\n",
        "        self.weight = w\n",
        "      else:\n",
        "      # w = (lambdaI + xT x)^(-1) xT y\n",
        "        xTx = np.dot(x.T, x)\n",
        "        inv = np.linalg.inv(np.eye(xTx.shape[0]) * _lambda + xTx)\n",
        "        w = np.dot(np.dot(inv, x.T), y)\n",
        "        self.weight = w\n",
        "        \n",
        "    def predict(self, x):\n",
        "      pre = np.dot(x, self.weight) \n",
        "      return pre\n",
        "\n",
        "    def poly_features(self,x):\n",
        "      #PolynomialFeatures\n",
        "      # find the phi matrix\n",
        "      # array_new = [[1 x1 x1^2 ...]\n",
        "      #        [1 x2 x1^2 ...]\n",
        "      #          .\n",
        "      #          .\n",
        "      #        [1 xn xn^2 ...]] \n",
        "      if(self.M == 1):\n",
        "        temp_matrix1 = np.ones([x.shape[0],1])\n",
        "        temp_matrix2 = x[:x.shape[0],:]\n",
        "        phi_matrix = np.hstack((temp_matrix1,temp_matrix2))\n",
        "        return phi_matrix\n",
        "\n",
        "      if(self.M == 2):\n",
        "        temp_matrix1 = np.ones([x.shape[0],1])\n",
        "        temp_matrix2 = x[:x.shape[0],:]\n",
        "        phi_matrix = np.hstack((temp_matrix1,temp_matrix2))\n",
        "        position = 1 + self.feature_num\n",
        "        for i in range(x.shape[1]):\n",
        "          for j in range(i,x.shape[1]):\n",
        "            if i <= j:\n",
        "              phi_matrix = np.insert(phi_matrix, position, (x[:,i]*x[:,j]), axis=1)\n",
        "              position+=1\n",
        "        return phi_matrix\n",
        "  \n",
        "def RMSE(y_predict,y_test):\n",
        "    y_predict = np.squeeze(np.asarray(y_predict)) # numpy.matrix to numpy.ndarray\n",
        "    y_test = np.squeeze(np.asarray(y_test))\n",
        "    return np.sqrt(np.mean((y_predict - y_test)**2))"
      ],
      "execution_count": 47,
      "outputs": []
    },
    {
      "cell_type": "markdown",
      "metadata": {
        "id": "3Dp6lF51aric"
      },
      "source": [
        "####(a) In the feature selection stage, please apply polynomials of order M = 1 and M = 2 over the dimension D = 8 input data. Please evaluate the corresponding RMS error on the training set and valid set. (15%) Code Result"
      ]
    },
    {
      "cell_type": "code",
      "metadata": {
        "colab": {
          "base_uri": "https://localhost:8080/"
        },
        "id": "bcl2lJ0yfluJ",
        "outputId": "0e749224-3a37-4681-b8be-3f752464b484"
      },
      "source": [
        "print(\"M = \",1)\n",
        "model_1 = LinearRegression(x_train,1)\n",
        "x_new = model_1.poly_features(x_train)\n",
        "model_1.closed_form(x_new,y_train) #find weight\n",
        "# RMSE error\n",
        "y_predict = model_1.predict(x_new)\n",
        "train_rmse = RMSE(y_predict,y_train)\n",
        "print(\"training RMSE: {}\".format(train_rmse))\n",
        "x_new = model_1.poly_features(x_test)\n",
        "y_predict = model_1.predict(x_new)\n",
        "test_rmse = RMSE(y_predict,y_test)\n",
        "print(\"testing RMSE: {}\".format(test_rmse))\n",
        "\n",
        "print(\"M = \",2)\n",
        "model_2 = LinearRegression(x_train,2)\n",
        "x_new = model_2.poly_features(x_train)\n",
        "model_2.closed_form(x_new,y_train) #find weight\n",
        "# RMSE error\n",
        "y_predict = model_2.predict(x_new)\n",
        "train_rmse = RMSE(y_predict,y_train)\n",
        "print(\"training RMSE: {}\".format(train_rmse))\n",
        "x_new = model_2.poly_features(x_test)\n",
        "y_predict = model_2.predict(x_new)\n",
        "test_rmse = RMSE(y_predict,y_test)\n",
        "print(\"testing RMSE: {}\\n\".format(test_rmse))"
      ],
      "execution_count": 48,
      "outputs": [
        {
          "output_type": "stream",
          "name": "stdout",
          "text": [
            "M =  1\n",
            "training RMSE: 70249.69288515071\n",
            "testing RMSE: 66869.90437703117\n",
            "M =  2\n",
            "training RMSE: 62797.94884199012\n",
            "testing RMSE: 68095.81748246602\n",
            "\n"
          ]
        }
      ]
    },
    {
      "cell_type": "markdown",
      "metadata": {
        "id": "6500dPAsKq6t"
      },
      "source": [
        "####(b)How will you analysis the weights of polynomial model M = 1 and select the most contributive feature? Code Result, Explain (10%)\n"
      ]
    },
    {
      "cell_type": "markdown",
      "metadata": {
        "id": "Th-6Frbdz6Xn"
      },
      "source": [
        "**The most contributive feature is median income**"
      ]
    },
    {
      "cell_type": "code",
      "metadata": {
        "id": "HoRO9Iv3eNAB",
        "colab": {
          "base_uri": "https://localhost:8080/"
        },
        "outputId": "59349af5-3405-48df-ece4-0245527fc591"
      },
      "source": [
        "for i in range(len(features)):\n",
        "  x = x_train\n",
        "  print(\"【Without \",features[i],\"】\")\n",
        "  x = np.delete(x, i, 1)\n",
        "  model = LinearRegression(x,1)\n",
        "  x_new = model_1.poly_features(x)\n",
        "  model.closed_form(x_new,y_train) #find weight\n",
        "  # RMSE error\n",
        "  y_predict = model.predict(x_new)\n",
        "  train_rmse = RMSE(y_predict,y_train)\n",
        "  print(\"training RMSE: {}\".format(train_rmse))\n",
        "  x = x_test\n",
        "  x = np.delete(x, i, 1)\n",
        "  x_new = model.poly_features(x)\n",
        "  y_predict = model.predict(x_new)\n",
        "  test_rmse = RMSE(y_predict,y_test)\n",
        "  print(\"testing RMSE: {}\\n\".format(test_rmse))"
      ],
      "execution_count": 49,
      "outputs": [
        {
          "output_type": "stream",
          "name": "stdout",
          "text": [
            "【Without  longitude 】\n",
            "training RMSE: 74564.80989278136\n",
            "testing RMSE: 79880.28966933605\n",
            "\n",
            "【Without  latitude 】\n",
            "training RMSE: 75428.63856761612\n",
            "testing RMSE: 79436.87710575457\n",
            "\n",
            "【Without  housing_median_age 】\n",
            "training RMSE: 71446.92578998476\n",
            "testing RMSE: 68136.68412422155\n",
            "\n",
            "【Without  total_rooms 】\n",
            "training RMSE: 70503.90486052609\n",
            "testing RMSE: 66744.3842956348\n",
            "\n",
            "【Without  total_bedrooms 】\n",
            "training RMSE: 70799.78934499071\n",
            "testing RMSE: 66945.91152159292\n",
            "\n",
            "【Without  populations 】\n",
            "training RMSE: 72397.47305904914\n",
            "testing RMSE: 68766.89909564017\n",
            "\n",
            "【Without  households 】\n",
            "training RMSE: 70321.08250080129\n",
            "testing RMSE: 66918.96260882316\n",
            "\n",
            "【Without  median_income 】\n",
            "training RMSE: 91181.9852667659\n",
            "testing RMSE: 89073.00554451978\n",
            "\n"
          ]
        }
      ]
    },
    {
      "cell_type": "markdown",
      "metadata": {
        "id": "kw1COLkpKKGp"
      },
      "source": [
        "##(2) Maximum likelihood approach "
      ]
    },
    {
      "cell_type": "markdown",
      "metadata": {
        "id": "ey_7tiFo734O"
      },
      "source": [
        "####(b) Introduce the basis function you just decided in (a) to linear regression model and analyze the result you get."
      ]
    },
    {
      "cell_type": "markdown",
      "metadata": {
        "id": "uZx8fHaX1eOs"
      },
      "source": [
        "使用 **sigmoid basis function** 做轉換，再進行linear regression分析"
      ]
    },
    {
      "cell_type": "code",
      "metadata": {
        "id": "cGIXyxag5xSH",
        "colab": {
          "base_uri": "https://localhost:8080/"
        },
        "outputId": "98fe702c-4a54-467f-bc32-c15e103d60fe"
      },
      "source": [
        "def sigmoid(x):\n",
        "    return 1 / (1 + np.exp(-x))\n",
        "\n",
        "X_sigmoid = X\n",
        "T_sigmoid = T\n",
        "\n",
        "# sigmoid \n",
        "X_sigmoid = sigmoid(X_sigmoid) \n",
        "\n",
        "# 80% training dataset and 20% test dataset\n",
        "X_SIZE = X.shape[0]\n",
        "ratio = 8/10\n",
        "trainRange = int(X_SIZE*ratio) #num of training data\n",
        "x_train = X_sigmoid[:trainRange]\n",
        "x_test = X_sigmoid[trainRange:]\n",
        "y_train = T[:trainRange]\n",
        "y_test = T[trainRange:]\n",
        "\n",
        "print(\"【Using sigmoid function】\")\n",
        "M=2\n",
        "for i in range(1,M+1):\n",
        "  print(\"M = \",i)\n",
        "  model = LinearRegression(x_train,i)\n",
        "  x_new = model.poly_features(x_train)\n",
        "  model.closed_form(x_new,y_train) #find weight\n",
        "  # RMSE error\n",
        "  x_new = model.poly_features(x_train)\n",
        "  y_predict = model.predict(x_new)\n",
        "  train_rmse = RMSE(y_predict,y_train)\n",
        "  print(\"training RMSE: {}\".format(train_rmse))\n",
        "  x_new = model.poly_features(x_test)\n",
        "  y_predict = model.predict(x_new)\n",
        "  test_rmse = RMSE(y_predict,y_test)\n",
        "  print(\"testing RMSE: {}\".format(test_rmse))"
      ],
      "execution_count": 50,
      "outputs": [
        {
          "output_type": "stream",
          "name": "stdout",
          "text": [
            "【Using sigmoid function】\n",
            "M =  1\n",
            "training RMSE: 67839.67521239303\n",
            "testing RMSE: 67558.27712810235\n",
            "M =  2\n",
            "training RMSE: 59572.35124329458\n",
            "testing RMSE: 70799.97490696392\n"
          ]
        }
      ]
    },
    {
      "cell_type": "markdown",
      "metadata": {
        "id": "YWxtZrEVC8PV"
      },
      "source": [
        "#### (c)**N-fold cross-validation** in your training stage to select at least one hyperparameter for model\n"
      ]
    },
    {
      "cell_type": "code",
      "metadata": {
        "id": "-clqz3TnC7y0",
        "colab": {
          "base_uri": "https://localhost:8080/"
        },
        "outputId": "90e6b20e-68d8-474e-e0a6-a3eec1d3e727"
      },
      "source": [
        "X_sigmoid = X\n",
        "T_sigmoid = T\n",
        "\n",
        "# sigmoid \n",
        "X_sigmoid = sigmoid(X_sigmoid) \n",
        "\n",
        "X_SIZE = X_sigmoid.shape[0]\n",
        "N = 10\n",
        "ratio = 1/N\n",
        "testRange = int(X_SIZE*ratio) \n",
        "M=2\n",
        "print(\"【N-fold cross-validation】\")\n",
        "for i in range(1,M+1):\n",
        "  train_rmse = []\n",
        "  test_rmse = []\n",
        "  for r in range(N):\n",
        "    # data split into 1 set(test) and N-1 sets(train)\n",
        "    x_test = X_sigmoid[range((testRange*r),(testRange*(r+1))),:]\n",
        "    y_test = T_sigmoid[range((testRange*r),(testRange*(r+1))),:]\n",
        "    x_train = np.delete(X_sigmoid, [range((testRange*r),(testRange*(r+1)))], axis=0)\n",
        "    y_train = np.delete(T_sigmoid, [range((testRange*r),(testRange*(r+1)))], axis=0)\n",
        "\n",
        "    model = LinearRegression(x_train,i)\n",
        "    x_new = model.poly_features(x_train)\n",
        "    model.closed_form(x_new,y_train) #find weight\n",
        "    # train RMSE error\n",
        "    x_new = model.poly_features(x_train)\n",
        "    y_predict = model.predict(x_new)\n",
        "    train_rmse.append(RMSE(y_predict,y_train))\n",
        "    # test RMSE error\n",
        "    x_new = model.poly_features(x_test)\n",
        "    y_predict = model.predict(x_new)\n",
        "    test_rmse.append(RMSE(y_predict,y_test))\n",
        "\n",
        "  average_train_rmse = sum(train_rmse) / N\n",
        "  average_test_rmse = sum(test_rmse) / N\n",
        "  print(f'M = {i}, Average_train_rmse = {average_train_rmse}, Average_test_rmse = {average_test_rmse}')\n"
      ],
      "execution_count": 51,
      "outputs": [
        {
          "output_type": "stream",
          "name": "stdout",
          "text": [
            "【N-fold cross-validation】\n",
            "M = 1, Average_train_rmse = 67635.5014379395, Average_test_rmse = 68956.77637727701\n",
            "M = 2, Average_train_rmse = 60393.09332535579, Average_test_rmse = 63606.2311675595\n"
          ]
        }
      ]
    },
    {
      "cell_type": "markdown",
      "metadata": {
        "id": "4MNGks0QGujx"
      },
      "source": [
        "## (3) Maximum a *posteriori* approach"
      ]
    },
    {
      "cell_type": "markdown",
      "metadata": {
        "id": "mRlj-2ZDHCCH"
      },
      "source": [
        "####(b) Use maximum a posteriori approach method to retest the model in 2 you designed. You could choose Gaussian distribution as a prior. "
      ]
    },
    {
      "cell_type": "markdown",
      "metadata": {
        "id": "fDmBnLb-OYTg"
      },
      "source": [
        "使用 Maximum a posteriori 做 linear regression , 設Lambda = 0.1"
      ]
    },
    {
      "cell_type": "code",
      "metadata": {
        "id": "odbk38xJN6q5",
        "colab": {
          "base_uri": "https://localhost:8080/"
        },
        "outputId": "2ab94470-1e53-4ed5-e7a9-1c21acbad6d9"
      },
      "source": [
        "_lambda = 28\n",
        "\n",
        "X_sigmoid = X\n",
        "T_sigmoid = T\n",
        "\n",
        "# sigmoid \n",
        "X_sigmoid = sigmoid(X_sigmoid)\n",
        "\n",
        "# 80% training dataset and 20% test dataset\n",
        "X_SIZE = X_sigmoid.shape[0]\n",
        "ratio = 8/10\n",
        "trainRange = int(X_SIZE*ratio) #num of training data\n",
        "x_train = X_sigmoid[:trainRange]\n",
        "x_test = X_sigmoid[trainRange:]\n",
        "y_train = T_sigmoid[:trainRange]\n",
        "y_test = T_sigmoid[trainRange:]\n",
        "\n",
        "M=2\n",
        "for i in range(1,M+1):\n",
        "  print(\"M = \",i)\n",
        "  model = LinearRegression(x_train,i)\n",
        "  x_new = model.poly_features(x_train)\n",
        "  model.closed_form(x_new,y_train,_lambda,True) #find weight\n",
        "  # RMSE error\n",
        "  x_new = model.poly_features(x_train)\n",
        "  y_predict = model.predict(x_new)\n",
        "  train_rmse = RMSE(y_predict,y_train)\n",
        "  print(\"training RMSE: {}\".format(train_rmse))\n",
        "  x_new = model.poly_features(x_test)\n",
        "  y_predict = model.predict(x_new)\n",
        "  test_rmse = RMSE(y_predict,y_test)\n",
        "  print(\"testing RMSE: {}\".format(test_rmse))"
      ],
      "execution_count": 52,
      "outputs": [
        {
          "output_type": "stream",
          "name": "stdout",
          "text": [
            "M =  1\n",
            "training RMSE: 70615.18856225083\n",
            "testing RMSE: 70597.98632278794\n",
            "M =  2\n",
            "training RMSE: 65554.72028031891\n",
            "testing RMSE: 65479.350888163644\n"
          ]
        }
      ]
    },
    {
      "cell_type": "markdown",
      "metadata": {
        "id": "ycN6sXeyOxOJ"
      },
      "source": [
        "使用 Maximum a posteriori 做 N-fold cross-validation "
      ]
    },
    {
      "cell_type": "code",
      "metadata": {
        "id": "uUWX-oInO4w9",
        "colab": {
          "base_uri": "https://localhost:8080/"
        },
        "outputId": "f5887e93-de8b-472e-d43c-85c5fcf1f55d"
      },
      "source": [
        "X_sigmoid = X\n",
        "T_sigmoid = T\n",
        "\n",
        "# sigmoid \n",
        "X_sigmoid = sigmoid(X_sigmoid)\n",
        "\n",
        "X_SIZE = X_sigmoid.shape[0]\n",
        "N = 10\n",
        "ratio = 1/N\n",
        "testRange = int(X_SIZE*ratio) \n",
        "M=2\n",
        "\n",
        "for i in range(1,M+1):\n",
        "  train_rmse = []\n",
        "  test_rmse = []\n",
        "  for r in range(N):\n",
        "    # data split into 1 set(test) and N-1 sets(train)\n",
        "    x_test = X_sigmoid[range((testRange*r),(testRange*(r+1))),:]\n",
        "    y_test = T_sigmoid[range((testRange*r),(testRange*(r+1))),:]\n",
        "    x_train = np.delete(X_sigmoid, [range((testRange*r),(testRange*(r+1)))], axis=0)\n",
        "    y_train = np.delete(T_sigmoid, [range((testRange*r),(testRange*(r+1)))], axis=0)\n",
        "\n",
        "    model = LinearRegression(x_train,i)\n",
        "    x_new = model.poly_features(x_train)\n",
        "    model.closed_form(x_new,y_train,_lambda,True) #find weight\n",
        "    # train RMSE error\n",
        "    x_new = model.poly_features(x_train)\n",
        "    y_predict = model.predict(x_new)\n",
        "    train_rmse.append(RMSE(y_predict,y_train))\n",
        "    # test RMSE error\n",
        "    x_new = model.poly_features(x_test)\n",
        "    y_predict = model.predict(x_new)\n",
        "    test_rmse.append(RMSE(y_predict,y_test))\n",
        "\n",
        "  average_train_rmse = sum(train_rmse) / N\n",
        "  average_test_rmse = sum(test_rmse) / N\n",
        "  print(f'『M = {i}』 Average_train_rmse = {average_train_rmse}, Average_test_rmse = {average_test_rmse}')"
      ],
      "execution_count": 53,
      "outputs": [
        {
          "output_type": "stream",
          "name": "stdout",
          "text": [
            "『M = 1』 Average_train_rmse = 69890.9337576071, Average_test_rmse = 71354.76290988609\n",
            "『M = 2』 Average_train_rmse = 65114.52858096348, Average_test_rmse = 66751.81259668877\n"
          ]
        }
      ]
    }
  ]
}